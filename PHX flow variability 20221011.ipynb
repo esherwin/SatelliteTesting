{
 "cells": [
  {
   "cell_type": "code",
   "execution_count": 53,
   "metadata": {
    "collapsed": true
   },
   "outputs": [],
   "source": [
    "\n",
    "# Import libraries\n",
    "\n",
    "import pandas as pd\n",
    "import scipy\n",
    "import scipy.stats as stats\n",
    "import matplotlib.pyplot as plt"
   ]
  },
  {
   "cell_type": "code",
   "execution_count": 50,
   "outputs": [],
   "source": [
    "meterData = pd.read_csv('/Users/evansherwin/PycharmProjects/SatelliteTesting/PHX meter data/rawdata20221011.csv')\n",
    "recordedCMData = pd.read_csv('/Users/evansherwin/PycharmProjects/SatelliteTesting/PHX meter data/CM release levels 20221011 - Sheet1.csv')\n",
    "wifitestData = pd.read_csv('/Users/evansherwin/PycharmProjects/SatelliteTesting/PHX meter data/20221011_1605_wifitest.csv')\n"
   ],
   "metadata": {
    "collapsed": false,
    "pycharm": {
     "name": "#%%\n"
    }
   }
  },
  {
   "cell_type": "code",
   "execution_count": 54,
   "outputs": [
    {
     "data": {
      "text/plain": "                                           TIMESTAMP  FIC101SP  FIC101PV  \\\n0  Sat Oct 08 2022 20:36:41 GMT+0100 (British Sum...       NaN       0.0   \n1  Sat Oct 08 2022 20:36:42 GMT+0100 (British Sum...       NaN       0.0   \n2  Sat Oct 08 2022 20:36:43 GMT+0100 (British Sum...       NaN       0.0   \n3  Sat Oct 08 2022 20:36:44 GMT+0100 (British Sum...       NaN      21.0   \n4  Sat Oct 08 2022 20:36:45 GMT+0100 (British Sum...       NaN       0.0   \n\n   FlowPath1  FIC102SP  FIC102PV  FlowPath2  FIC103SP  FIC103PV  FlowPath3  \\\n0        NaN       NaN       1.0        NaN       NaN       0.0        NaN   \n1        NaN       NaN       1.0        NaN       NaN       0.0        NaN   \n2        NaN       NaN       1.0        NaN       NaN       0.0        NaN   \n3        NaN       NaN       1.0        NaN       NaN       0.0        NaN   \n4        NaN       NaN       1.0        NaN       NaN       0.0        NaN   \n\n   FIC104PV  \n0       0.0  \n1       0.0  \n2       2.0  \n3       0.0  \n4       2.0  ",
      "text/html": "<div>\n<style scoped>\n    .dataframe tbody tr th:only-of-type {\n        vertical-align: middle;\n    }\n\n    .dataframe tbody tr th {\n        vertical-align: top;\n    }\n\n    .dataframe thead th {\n        text-align: right;\n    }\n</style>\n<table border=\"1\" class=\"dataframe\">\n  <thead>\n    <tr style=\"text-align: right;\">\n      <th></th>\n      <th>TIMESTAMP</th>\n      <th>FIC101SP</th>\n      <th>FIC101PV</th>\n      <th>FlowPath1</th>\n      <th>FIC102SP</th>\n      <th>FIC102PV</th>\n      <th>FlowPath2</th>\n      <th>FIC103SP</th>\n      <th>FIC103PV</th>\n      <th>FlowPath3</th>\n      <th>FIC104PV</th>\n    </tr>\n  </thead>\n  <tbody>\n    <tr>\n      <th>0</th>\n      <td>Sat Oct 08 2022 20:36:41 GMT+0100 (British Sum...</td>\n      <td>NaN</td>\n      <td>0.0</td>\n      <td>NaN</td>\n      <td>NaN</td>\n      <td>1.0</td>\n      <td>NaN</td>\n      <td>NaN</td>\n      <td>0.0</td>\n      <td>NaN</td>\n      <td>0.0</td>\n    </tr>\n    <tr>\n      <th>1</th>\n      <td>Sat Oct 08 2022 20:36:42 GMT+0100 (British Sum...</td>\n      <td>NaN</td>\n      <td>0.0</td>\n      <td>NaN</td>\n      <td>NaN</td>\n      <td>1.0</td>\n      <td>NaN</td>\n      <td>NaN</td>\n      <td>0.0</td>\n      <td>NaN</td>\n      <td>0.0</td>\n    </tr>\n    <tr>\n      <th>2</th>\n      <td>Sat Oct 08 2022 20:36:43 GMT+0100 (British Sum...</td>\n      <td>NaN</td>\n      <td>0.0</td>\n      <td>NaN</td>\n      <td>NaN</td>\n      <td>1.0</td>\n      <td>NaN</td>\n      <td>NaN</td>\n      <td>0.0</td>\n      <td>NaN</td>\n      <td>2.0</td>\n    </tr>\n    <tr>\n      <th>3</th>\n      <td>Sat Oct 08 2022 20:36:44 GMT+0100 (British Sum...</td>\n      <td>NaN</td>\n      <td>21.0</td>\n      <td>NaN</td>\n      <td>NaN</td>\n      <td>1.0</td>\n      <td>NaN</td>\n      <td>NaN</td>\n      <td>0.0</td>\n      <td>NaN</td>\n      <td>0.0</td>\n    </tr>\n    <tr>\n      <th>4</th>\n      <td>Sat Oct 08 2022 20:36:45 GMT+0100 (British Sum...</td>\n      <td>NaN</td>\n      <td>0.0</td>\n      <td>NaN</td>\n      <td>NaN</td>\n      <td>1.0</td>\n      <td>NaN</td>\n      <td>NaN</td>\n      <td>0.0</td>\n      <td>NaN</td>\n      <td>2.0</td>\n    </tr>\n  </tbody>\n</table>\n</div>"
     },
     "execution_count": 54,
     "metadata": {},
     "output_type": "execute_result"
    }
   ],
   "source": [
    "meterData = wifitestData\n",
    "\n",
    "colnames = ['TIMESTAMP', 'FIC101SP', 'FIC101PV', 'FlowPath1', 'FIC102SP', 'FIC102PV', 'FlowPath2', 'FIC103SP', 'FIC103PV', 'FlowPath3', 'FIC104PV']\n",
    "\n",
    "meterData.columns = colnames\n",
    "numericcols =['FIC101SP', 'FIC101PV', 'FlowPath1', 'FIC102SP', 'FIC102PV', 'FlowPath2', 'FIC103SP', 'FIC103PV', 'FlowPath3', 'FIC104PV']\n",
    "meterData[numericcols] = meterData[numericcols].apply(pd.to_numeric, errors='coerce', axis=1)"
   ],
   "metadata": {
    "collapsed": false,
    "pycharm": {
     "name": "#%%\n"
    }
   }
  },
  {
   "cell_type": "code",
   "execution_count": 55,
   "outputs": [
    {
     "data": {
      "text/plain": "                                           TIMESTAMP  FIC101SP  FIC101PV  \\\n0  Sat Oct 08 2022 20:36:41 GMT+0100 (British Sum...       NaN       0.0   \n1  Sat Oct 08 2022 20:36:42 GMT+0100 (British Sum...       NaN       0.0   \n2  Sat Oct 08 2022 20:36:43 GMT+0100 (British Sum...       NaN       0.0   \n3  Sat Oct 08 2022 20:36:44 GMT+0100 (British Sum...       NaN      21.0   \n4  Sat Oct 08 2022 20:36:45 GMT+0100 (British Sum...       NaN       0.0   \n\n   FlowPath1  FIC102SP  FIC102PV  FlowPath2  FIC103SP  FIC103PV  FlowPath3  \\\n0        NaN       NaN       1.0        NaN       NaN       0.0        NaN   \n1        NaN       NaN       1.0        NaN       NaN       0.0        NaN   \n2        NaN       NaN       1.0        NaN       NaN       0.0        NaN   \n3        NaN       NaN       1.0        NaN       NaN       0.0        NaN   \n4        NaN       NaN       1.0        NaN       NaN       0.0        NaN   \n\n   FIC104PV  \n0       0.0  \n1       0.0  \n2       2.0  \n3       0.0  \n4       2.0  ",
      "text/html": "<div>\n<style scoped>\n    .dataframe tbody tr th:only-of-type {\n        vertical-align: middle;\n    }\n\n    .dataframe tbody tr th {\n        vertical-align: top;\n    }\n\n    .dataframe thead th {\n        text-align: right;\n    }\n</style>\n<table border=\"1\" class=\"dataframe\">\n  <thead>\n    <tr style=\"text-align: right;\">\n      <th></th>\n      <th>TIMESTAMP</th>\n      <th>FIC101SP</th>\n      <th>FIC101PV</th>\n      <th>FlowPath1</th>\n      <th>FIC102SP</th>\n      <th>FIC102PV</th>\n      <th>FlowPath2</th>\n      <th>FIC103SP</th>\n      <th>FIC103PV</th>\n      <th>FlowPath3</th>\n      <th>FIC104PV</th>\n    </tr>\n  </thead>\n  <tbody>\n    <tr>\n      <th>0</th>\n      <td>Sat Oct 08 2022 20:36:41 GMT+0100 (British Sum...</td>\n      <td>NaN</td>\n      <td>0.0</td>\n      <td>NaN</td>\n      <td>NaN</td>\n      <td>1.0</td>\n      <td>NaN</td>\n      <td>NaN</td>\n      <td>0.0</td>\n      <td>NaN</td>\n      <td>0.0</td>\n    </tr>\n    <tr>\n      <th>1</th>\n      <td>Sat Oct 08 2022 20:36:42 GMT+0100 (British Sum...</td>\n      <td>NaN</td>\n      <td>0.0</td>\n      <td>NaN</td>\n      <td>NaN</td>\n      <td>1.0</td>\n      <td>NaN</td>\n      <td>NaN</td>\n      <td>0.0</td>\n      <td>NaN</td>\n      <td>0.0</td>\n    </tr>\n    <tr>\n      <th>2</th>\n      <td>Sat Oct 08 2022 20:36:43 GMT+0100 (British Sum...</td>\n      <td>NaN</td>\n      <td>0.0</td>\n      <td>NaN</td>\n      <td>NaN</td>\n      <td>1.0</td>\n      <td>NaN</td>\n      <td>NaN</td>\n      <td>0.0</td>\n      <td>NaN</td>\n      <td>2.0</td>\n    </tr>\n    <tr>\n      <th>3</th>\n      <td>Sat Oct 08 2022 20:36:44 GMT+0100 (British Sum...</td>\n      <td>NaN</td>\n      <td>21.0</td>\n      <td>NaN</td>\n      <td>NaN</td>\n      <td>1.0</td>\n      <td>NaN</td>\n      <td>NaN</td>\n      <td>0.0</td>\n      <td>NaN</td>\n      <td>0.0</td>\n    </tr>\n    <tr>\n      <th>4</th>\n      <td>Sat Oct 08 2022 20:36:45 GMT+0100 (British Sum...</td>\n      <td>NaN</td>\n      <td>0.0</td>\n      <td>NaN</td>\n      <td>NaN</td>\n      <td>1.0</td>\n      <td>NaN</td>\n      <td>NaN</td>\n      <td>0.0</td>\n      <td>NaN</td>\n      <td>2.0</td>\n    </tr>\n  </tbody>\n</table>\n</div>"
     },
     "execution_count": 55,
     "metadata": {},
     "output_type": "execute_result"
    }
   ],
   "source": [
    "meterData.head()"
   ],
   "metadata": {
    "collapsed": false,
    "pycharm": {
     "name": "#%%\n"
    }
   }
  },
  {
   "cell_type": "code",
   "execution_count": 48,
   "outputs": [
    {
     "data": {
      "text/plain": "          FIC101SP      FIC101PV    FlowPath1      FIC102SP      FIC102PV  \\\ncount  4141.000000  46344.000000  4137.000000  39939.000000  46344.000000   \nmean    794.892297     74.280058     0.920715     79.466261     67.703694   \nstd     580.007621    283.574488     0.326162     76.448071     73.707752   \nmin       0.000000      0.000000     0.000000      0.000000      0.000000   \n25%     200.000000      0.000000     1.000000     17.000000      6.000000   \n50%     800.000000      0.000000     1.000000     50.000000     36.000000   \n75%    1400.000000     16.000000     1.000000    132.000000    109.000000   \nmax    1600.000000   1776.000000     3.000000    400.000000    289.000000   \n\n          FlowPath2     FIC103SP      FIC103PV  FlowPath3      FIC104PV  \ncount  40285.000000  1562.000000  46344.000000        0.0  46321.000000  \nmean       0.883431     9.091549      0.003970        NaN     56.996848  \nstd        0.346572    11.948960      0.178178        NaN     60.272241  \nmin        0.000000     0.000000      0.000000        NaN      0.000000  \n25%        1.000000     0.000000      0.000000        NaN      3.000000  \n50%        1.000000     0.000000      0.000000        NaN     30.000000  \n75%        1.000000    25.000000      0.000000        NaN     94.000000  \nmax        6.000000    27.000000      8.000000        NaN    249.000000  ",
      "text/html": "<div>\n<style scoped>\n    .dataframe tbody tr th:only-of-type {\n        vertical-align: middle;\n    }\n\n    .dataframe tbody tr th {\n        vertical-align: top;\n    }\n\n    .dataframe thead th {\n        text-align: right;\n    }\n</style>\n<table border=\"1\" class=\"dataframe\">\n  <thead>\n    <tr style=\"text-align: right;\">\n      <th></th>\n      <th>FIC101SP</th>\n      <th>FIC101PV</th>\n      <th>FlowPath1</th>\n      <th>FIC102SP</th>\n      <th>FIC102PV</th>\n      <th>FlowPath2</th>\n      <th>FIC103SP</th>\n      <th>FIC103PV</th>\n      <th>FlowPath3</th>\n      <th>FIC104PV</th>\n    </tr>\n  </thead>\n  <tbody>\n    <tr>\n      <th>count</th>\n      <td>4141.000000</td>\n      <td>46344.000000</td>\n      <td>4137.000000</td>\n      <td>39939.000000</td>\n      <td>46344.000000</td>\n      <td>40285.000000</td>\n      <td>1562.000000</td>\n      <td>46344.000000</td>\n      <td>0.0</td>\n      <td>46321.000000</td>\n    </tr>\n    <tr>\n      <th>mean</th>\n      <td>794.892297</td>\n      <td>74.280058</td>\n      <td>0.920715</td>\n      <td>79.466261</td>\n      <td>67.703694</td>\n      <td>0.883431</td>\n      <td>9.091549</td>\n      <td>0.003970</td>\n      <td>NaN</td>\n      <td>56.996848</td>\n    </tr>\n    <tr>\n      <th>std</th>\n      <td>580.007621</td>\n      <td>283.574488</td>\n      <td>0.326162</td>\n      <td>76.448071</td>\n      <td>73.707752</td>\n      <td>0.346572</td>\n      <td>11.948960</td>\n      <td>0.178178</td>\n      <td>NaN</td>\n      <td>60.272241</td>\n    </tr>\n    <tr>\n      <th>min</th>\n      <td>0.000000</td>\n      <td>0.000000</td>\n      <td>0.000000</td>\n      <td>0.000000</td>\n      <td>0.000000</td>\n      <td>0.000000</td>\n      <td>0.000000</td>\n      <td>0.000000</td>\n      <td>NaN</td>\n      <td>0.000000</td>\n    </tr>\n    <tr>\n      <th>25%</th>\n      <td>200.000000</td>\n      <td>0.000000</td>\n      <td>1.000000</td>\n      <td>17.000000</td>\n      <td>6.000000</td>\n      <td>1.000000</td>\n      <td>0.000000</td>\n      <td>0.000000</td>\n      <td>NaN</td>\n      <td>3.000000</td>\n    </tr>\n    <tr>\n      <th>50%</th>\n      <td>800.000000</td>\n      <td>0.000000</td>\n      <td>1.000000</td>\n      <td>50.000000</td>\n      <td>36.000000</td>\n      <td>1.000000</td>\n      <td>0.000000</td>\n      <td>0.000000</td>\n      <td>NaN</td>\n      <td>30.000000</td>\n    </tr>\n    <tr>\n      <th>75%</th>\n      <td>1400.000000</td>\n      <td>16.000000</td>\n      <td>1.000000</td>\n      <td>132.000000</td>\n      <td>109.000000</td>\n      <td>1.000000</td>\n      <td>25.000000</td>\n      <td>0.000000</td>\n      <td>NaN</td>\n      <td>94.000000</td>\n    </tr>\n    <tr>\n      <th>max</th>\n      <td>1600.000000</td>\n      <td>1776.000000</td>\n      <td>3.000000</td>\n      <td>400.000000</td>\n      <td>289.000000</td>\n      <td>6.000000</td>\n      <td>27.000000</td>\n      <td>8.000000</td>\n      <td>NaN</td>\n      <td>249.000000</td>\n    </tr>\n  </tbody>\n</table>\n</div>"
     },
     "execution_count": 48,
     "metadata": {},
     "output_type": "execute_result"
    }
   ],
   "source": [
    "meterData.describe()"
   ],
   "metadata": {
    "collapsed": false,
    "pycharm": {
     "name": "#%%\n"
    }
   }
  },
  {
   "cell_type": "code",
   "execution_count": 56,
   "outputs": [
    {
     "data": {
      "text/plain": "                                           TIMESTAMP  FIC101SP  FIC101PV  \\\n0  Sat Oct 08 2022 20:36:41 GMT+0100 (British Sum...       NaN       0.0   \n1  Sat Oct 08 2022 20:36:42 GMT+0100 (British Sum...       NaN       0.0   \n2  Sat Oct 08 2022 20:36:43 GMT+0100 (British Sum...       NaN       0.0   \n3  Sat Oct 08 2022 20:36:44 GMT+0100 (British Sum...       NaN      21.0   \n4  Sat Oct 08 2022 20:36:45 GMT+0100 (British Sum...       NaN       0.0   \n\n   FlowPath1  FIC102SP  FIC102PV  FlowPath2  FIC103SP  FIC103PV  FlowPath3  \\\n0        NaN       NaN       1.0        NaN       NaN       0.0        NaN   \n1        NaN       NaN       1.0        NaN       NaN       0.0        NaN   \n2        NaN       NaN       1.0        NaN       NaN       0.0        NaN   \n3        NaN       NaN       1.0        NaN       NaN       0.0        NaN   \n4        NaN       NaN       1.0        NaN       NaN       0.0        NaN   \n\n   FIC104PV  rollingMean30s  rollingStd30s  rollingStdPct30s  \n0       0.0             NaN            NaN               NaN  \n1       0.0             NaN            NaN               NaN  \n2       2.0             NaN            NaN               NaN  \n3       0.0             NaN            NaN               NaN  \n4       2.0             NaN            NaN               NaN  ",
      "text/html": "<div>\n<style scoped>\n    .dataframe tbody tr th:only-of-type {\n        vertical-align: middle;\n    }\n\n    .dataframe tbody tr th {\n        vertical-align: top;\n    }\n\n    .dataframe thead th {\n        text-align: right;\n    }\n</style>\n<table border=\"1\" class=\"dataframe\">\n  <thead>\n    <tr style=\"text-align: right;\">\n      <th></th>\n      <th>TIMESTAMP</th>\n      <th>FIC101SP</th>\n      <th>FIC101PV</th>\n      <th>FlowPath1</th>\n      <th>FIC102SP</th>\n      <th>FIC102PV</th>\n      <th>FlowPath2</th>\n      <th>FIC103SP</th>\n      <th>FIC103PV</th>\n      <th>FlowPath3</th>\n      <th>FIC104PV</th>\n      <th>rollingMean30s</th>\n      <th>rollingStd30s</th>\n      <th>rollingStdPct30s</th>\n    </tr>\n  </thead>\n  <tbody>\n    <tr>\n      <th>0</th>\n      <td>Sat Oct 08 2022 20:36:41 GMT+0100 (British Sum...</td>\n      <td>NaN</td>\n      <td>0.0</td>\n      <td>NaN</td>\n      <td>NaN</td>\n      <td>1.0</td>\n      <td>NaN</td>\n      <td>NaN</td>\n      <td>0.0</td>\n      <td>NaN</td>\n      <td>0.0</td>\n      <td>NaN</td>\n      <td>NaN</td>\n      <td>NaN</td>\n    </tr>\n    <tr>\n      <th>1</th>\n      <td>Sat Oct 08 2022 20:36:42 GMT+0100 (British Sum...</td>\n      <td>NaN</td>\n      <td>0.0</td>\n      <td>NaN</td>\n      <td>NaN</td>\n      <td>1.0</td>\n      <td>NaN</td>\n      <td>NaN</td>\n      <td>0.0</td>\n      <td>NaN</td>\n      <td>0.0</td>\n      <td>NaN</td>\n      <td>NaN</td>\n      <td>NaN</td>\n    </tr>\n    <tr>\n      <th>2</th>\n      <td>Sat Oct 08 2022 20:36:43 GMT+0100 (British Sum...</td>\n      <td>NaN</td>\n      <td>0.0</td>\n      <td>NaN</td>\n      <td>NaN</td>\n      <td>1.0</td>\n      <td>NaN</td>\n      <td>NaN</td>\n      <td>0.0</td>\n      <td>NaN</td>\n      <td>2.0</td>\n      <td>NaN</td>\n      <td>NaN</td>\n      <td>NaN</td>\n    </tr>\n    <tr>\n      <th>3</th>\n      <td>Sat Oct 08 2022 20:36:44 GMT+0100 (British Sum...</td>\n      <td>NaN</td>\n      <td>21.0</td>\n      <td>NaN</td>\n      <td>NaN</td>\n      <td>1.0</td>\n      <td>NaN</td>\n      <td>NaN</td>\n      <td>0.0</td>\n      <td>NaN</td>\n      <td>0.0</td>\n      <td>NaN</td>\n      <td>NaN</td>\n      <td>NaN</td>\n    </tr>\n    <tr>\n      <th>4</th>\n      <td>Sat Oct 08 2022 20:36:45 GMT+0100 (British Sum...</td>\n      <td>NaN</td>\n      <td>0.0</td>\n      <td>NaN</td>\n      <td>NaN</td>\n      <td>1.0</td>\n      <td>NaN</td>\n      <td>NaN</td>\n      <td>0.0</td>\n      <td>NaN</td>\n      <td>2.0</td>\n      <td>NaN</td>\n      <td>NaN</td>\n      <td>NaN</td>\n    </tr>\n  </tbody>\n</table>\n</div>"
     },
     "execution_count": 56,
     "metadata": {},
     "output_type": "execute_result"
    }
   ],
   "source": [
    "# Running standard deviation of flow rate by time interval\n",
    "\n",
    "meterData['rollingMean30s'] = meterData['FIC102PV'].rolling(30).mean()\n",
    "meterData['rollingStd30s'] = meterData['FIC102PV'].rolling(30).std()\n",
    "meterData['rollingStdPct30s'] = 100*meterData['rollingStd30s']/meterData['rollingMean30s']\n",
    "\n",
    "meterData.head()"
   ],
   "metadata": {
    "collapsed": false,
    "pycharm": {
     "name": "#%%\n"
    }
   }
  },
  {
   "cell_type": "code",
   "execution_count": 65,
   "outputs": [
    {
     "data": {
      "text/plain": "<Figure size 432x288 with 1 Axes>",
      "image/png": "[encoded data removed]"
     },
     "metadata": {
      "needs_background": "light"
     },
     "output_type": "display_data"
    }
   ],
   "source": [
    "ax = plt.gca()\n",
    "# meterData['rollingMean30s'].plot(ax=ax)\n",
    "# meterData['rollingStd30s'].plot(ax=ax)\n",
    "# plt.plot(meterData.loc[43471:46368, 'TIMESTAMP'], meterData.loc[43471:46368, 'rollingStdPct30s'])\n",
    "meterData.loc[43471:46368, 'rollingStdPct30s'].plot(ax=ax)\n",
    "plt.ylim(0,50)\n",
    "# plt.savefig('Coriolis flow variability 20221011.pdf', format='pdf')\n",
    "plt.savefig('Wifi flow variability 50%lim 20221011.pdf', format='pdf')\n",
    "# plt.show()"
   ],
   "metadata": {
    "collapsed": false,
    "pycharm": {
     "name": "#%%\n"
    }
   }
  },
  {
   "cell_type": "code",
   "execution_count": 35,
   "outputs": [
    {
     "data": {
      "text/plain": "25358    0.830455\n25359    0.830455\n25360    0.830455\n25361    0.773893\n25362    0.773893\nName: rollingStdPct30s, dtype: float64"
     },
     "execution_count": 35,
     "metadata": {},
     "output_type": "execute_result"
    }
   ],
   "source": [
    "meterData['rollingStdPct30s'].tail()"
   ],
   "metadata": {
    "collapsed": false,
    "pycharm": {
     "name": "#%%\n"
    }
   }
  },
  {
   "cell_type": "code",
   "execution_count": 44,
   "outputs": [
    {
     "data": {
      "text/plain": "<Figure size 432x288 with 1 Axes>",
      "image/png": "[encoded data removed]"
     },
     "metadata": {
      "needs_background": "light"
     },
     "output_type": "display_data"
    }
   ],
   "source": [
    "# Carbon Mapper release histogram 10/10/2022\n",
    "recordedCMData['Flow (kgh)'].hist()\n",
    "plt.savefig('CM flow rate histogram 20221010.pdf', format='pdf')"
   ],
   "metadata": {
    "collapsed": false,
    "pycharm": {
     "name": "#%%\n"
    }
   }
  }
 ],
 "metadata": {
  "kernelspec": {
   "display_name": "Python 3",
   "language": "python",
   "name": "python3"
  },
  "language_info": {
   "codemirror_mode": {
    "name": "ipython",
    "version": 2
   },
   "file_extension": ".py",
   "mimetype": "text/x-python",
   "name": "python",
   "nbconvert_exporter": "python",
   "pygments_lexer": "ipython2",
   "version": "2.7.6"
  }
 },
 "nbformat": 4,
 "nbformat_minor": 0
}